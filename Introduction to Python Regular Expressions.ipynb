{
 "cells": [
  {
   "cell_type": "markdown",
   "metadata": {},
   "source": [
    "# Python Regular Expressions"
   ]
  },
  {
   "cell_type": "code",
   "execution_count": null,
   "metadata": {},
   "outputs": [],
   "source": [
    "#%%html\n",
    "#<style>\n",
    "#table {float:left; width:100%;} \n",
    "#    table th {float:center; color:blue;font-size:14pt;} \n",
    "#    table th:first-of-type {width: 12%;}\n",
    "#    table th:nth-of-type(2) {width: 10%;text-align:center;} \n",
    "#    table th:nth-of-type(3) {width: 70%;}    \n",
    "#    table tr {font-size:10pt;}  \n",
    "#</style>"
   ]
  },
  {
   "cell_type": "code",
   "execution_count": 1,
   "metadata": {},
   "outputs": [
    {
     "data": {
      "text/html": [
       "<style>table {\n",
       "\tfloat:left; width:100%;\n",
       "    border-collapse: collapse;\n",
       "    margin: 25px 0;\n",
       "    font-size: 0.9em;\n",
       "    font-family: sans-serif;\n",
       "    min-width: 400px;\n",
       "    box-shadow: 0 0 20px rgba(0, 0, 0, 0.15);\n",
       "}\n",
       "thead tr {\n",
       "    background-color: #0A024B;\n",
       "    color: #ffffff;\n",
       "    text-align: left;\n",
       "\tfont-size:16px;\n",
       "}\n",
       "th, table td {\n",
       "    padding: 12px 15px;\n",
       "}\n",
       "tbody tr {\n",
       "    border-bottom: 1px solid #dddddd;\n",
       "\tfont-size:11pt; \n",
       "}\n",
       "tbody tr:nth-of-type(even) {\n",
       "    background-color: #f3f3f3;\n",
       "}\n",
       "tbody tr:last-of-type {\n",
       "    border-bottom: 2px solid #009879;\n",
       "}\n",
       "tbody tr.active-row {\n",
       "    font-weight: bold;\n",
       "    color: #009879;\n",
       "}\n",
       "th:nth-child(1) {\n",
       "  width: 15%;\n",
       "}\n",
       "th:nth-child(2) {\n",
       "  width: 10%\n",
       "}\n",
       "th:nth-child(3) {\n",
       "  width: 75%\n",
       "}  \n",
       "tr td:first-child {\n",
       "      font-weight: bold;\n",
       "}</style>"
      ],
      "text/plain": [
       "<IPython.core.display.HTML object>"
      ]
     },
     "execution_count": 1,
     "metadata": {},
     "output_type": "execute_result"
    }
   ],
   "source": [
    " from IPython.core.display import HTML\n",
    " css = open('./Markdown/stylesheets/style_table4.css').read()\n",
    " HTML('<style>{}</style>'.format(css))           "
   ]
  },
  {
   "cell_type": "markdown",
   "metadata": {},
   "source": [
    "<hr style=\"color:black; border: 1px solid gray;\"><h3>Sequences</h3>"
   ]
  },
  {
   "cell_type": "markdown",
   "metadata": {},
   "source": [
    "|Expression | | Explanations\n",
    "|:--- |:--- |:---|\n",
    "^ ||Matches the start of a string without consuming any characters. If /m multiline mode is used, this will also match immediately after a newline character.\n",
    "$ | |Matches the end of a string without consuming any characters. If multiline mode is used, this will also match immediately before a newline character.\n",
    "[a-z] || Matches any lowecase characters between a and z, including a and z.\n",
    "[A-Z] || Matches any uppercase characters between A and Z, including A and Z.\n",
    "[0-9] || Matches any number digit between 0 and 9, including 9.\n",
    "[abc] || Matches either an a, b or c character.\n",
    "[^abc] || Matches any character except for an a, b or c.\n",
    "a\\|b | |Matches either what is before the \"\\|\" or what is after it - in this case 'a' or 'b'. \n",
    "(?:...) ||A non-capturing group allows you to apply quantifiers to part of your regex but does not capture/assign an ID. \n",
    "(...) || Capturing group. Capures everything enclosed.\n",
    "\\w | |Matches any word character. Equivalent to [a-zA-Z0-9_].\n",
    "\\W | |Matches any non-word character Equivalent to [^a-zA-Z0-9_].\n",
    ". | |Matches any single character except newline\n",
    "\\d | |Matches any digit [0-9] character\n",
    "\\D | |Matches any non-digit [^0-9] character\n",
    "\\s | |Matches any space, tab or newline character.  [\\t\\n\\r\\f\\v]\n",
    "\\S | |Matches anything other than a space, tab or newline. [^\\t\\n\\r\\f\\v]\n",
    "xy | |Matches the string xy\n",
    "a\\|b | |Matches expression a or b. If a is matched first, b is left untried."
   ]
  },
  {
   "cell_type": "markdown",
   "metadata": {},
   "source": [
    "<hr style=\"color:black; border: 1px solid gray;\"><h3>Quantifiers</h3>"
   ]
  },
  {
   "cell_type": "markdown",
   "metadata": {},
   "source": [
    "|Expressions |\t|Explanations\n",
    "|:-|:- |:---\n",
    "\\+ ||Matches the expression to its left 1 or more times.\n",
    "\\* | |Matches the expression to its left 0 or more times.\n",
    "\\? | |Matches the expression to its left 0 or 1 times\n",
    "{p}| |Matches the expression to its left p times, and not less.\n",
    "{p, q} ||Matches the expression to its left p to q times, and not less.\n",
    "{p, } ||Matches the expression to its left p or more times.\n",
    "{ , q} ||Matches the expression to its left up to q times"
   ]
  },
  {
   "cell_type": "markdown",
   "metadata": {},
   "source": [
    "|Note |\t|Description | \n",
    "|:--- |:--- |:--- |\n",
    "(?!pat) |\t|negative lookahead assertion |\n",
    "(?<!pat) |\t|negative lookbehind assertion  |\n",
    "(?=pat) |\t|positive lookahead assertion  |\n",
    "(?<=pat) |\t|positive lookbehind assertion  |\n",
    "(?!pat1)(?=pat2) |\t|multiple assertions can be specified next to each other in any order as they mark a matching location without consuming characters | \n",
    "((?!pat).)* |\t|Negate a grouping, similar to negated character class  | "
   ]
  },
  {
   "cell_type": "markdown",
   "metadata": {
    "azdata_cell_guid": "b3c21083-7849-4278-9976-76c39e29cd02"
   },
   "source": [
    "<hr style=\"color:black; border: 1px solid gray;\"><h2>Popular Python re Module Functions</h2>"
   ]
  },
  {
   "cell_type": "markdown",
   "metadata": {
    "azdata_cell_guid": "f0e5d686-6b2f-40db-bc5e-257d03aeb788",
    "language": "python"
   },
   "source": [
    "|Function | | Description\n",
    "|:--- |:--- |:---  \n",
    "| re.search(A, B) | | Matches the first instance of an expression A in a string B, and returns it as a re match object.It searches for the whole string even if the string contains multi-lines and tries to find a match of the substring in all the lines of string.\n",
    "| re.match(A, B) | | Searches only from the beginning of the string and return match object if found. But if a match of substring is found somewhere in the middle of the string, it returns none. \n",
    "| re.split(A, B) | | Split a string B into a list using the delimiter A.\n",
    "| re.sub(A, B, C) | | Replace A with B in the string C.\n",
    "| re.findall(A, B) | | Matches all instances of an expression A in a string B and returns them in a list."
   ]
  },
  {
   "cell_type": "code",
   "execution_count": 2,
   "metadata": {
    "azdata_cell_guid": "a05fb336-e254-4429-8310-2a6cd2eedbed",
    "language": "python"
   },
   "outputs": [],
   "source": [
    "import re"
   ]
  },
  {
   "cell_type": "markdown",
   "metadata": {},
   "source": [
    "<hr style=\"color:black; border: 1px solid gray;\"><h3>re flags</h3>"
   ]
  },
  {
   "cell_type": "markdown",
   "metadata": {},
   "source": [
    "<div class=\"table3col\">\n",
    "\n",
    "|Long|Short|Inline\n",
    "|:---|:---|:---\n",
    "|re.VERBOSE|re.X|\"(?x)\"\n",
    "|re.IGNORECASE|re.I| \"(?i)\"\n",
    "|re.MULTILINE|re.M| \"(?m)\"\n",
    "|re.DOTALL|re.S|\"(?s)\"\n",
    "\n",
    "</div>    "
   ]
  },
  {
   "cell_type": "markdown",
   "metadata": {},
   "source": [
    "## Python re functions - examples"
   ]
  },
  {
   "cell_type": "markdown",
   "metadata": {
    "azdata_cell_guid": "f3f8bd3e-48ab-46b7-84e4-dd88b6153695"
   },
   "source": [
    "### Import **re** package"
   ]
  },
  {
   "cell_type": "code",
   "execution_count": 14,
   "metadata": {
    "azdata_cell_guid": "5b355e69-7b85-4be4-944b-bf8fca06214f"
   },
   "outputs": [],
   "source": [
    "import re"
   ]
  },
  {
   "cell_type": "markdown",
   "metadata": {},
   "source": [
    "### Setup regex expression and compile it"
   ]
  },
  {
   "cell_type": "code",
   "execution_count": 15,
   "metadata": {},
   "outputs": [
    {
     "data": {
      "text/plain": [
       "re.compile(r'my', re.UNICODE)"
      ]
     },
     "execution_count": 15,
     "metadata": {},
     "output_type": "execute_result"
    }
   ],
   "source": [
    "text = \"\"\"\n",
    "My name is Tor and I live in Chicago.\n",
    "My dummy phone number is 224-323-1234\n",
    "and my zip code is 60060 \n",
    "My dummy email is: tor@gmail.com.\"\n",
    "\"\"\"\n",
    "\n",
    "regex = r\"my\"\n",
    "re.compile(regex)"
   ]
  },
  {
   "cell_type": "markdown",
   "metadata": {},
   "source": [
    "### re.search()"
   ]
  },
  {
   "cell_type": "code",
   "execution_count": 16,
   "metadata": {},
   "outputs": [
    {
     "name": "stdout",
     "output_type": "stream",
     "text": [
      "<re.Match object; span=(45, 47), match='my'>\n",
      "<re.Match object; span=(1, 3), match='My'>\n",
      "<re.Match object; span=(1, 3), match='My'>\n",
      "(45, 47)\n",
      "(1, 3)\n",
      "(1, 3)\n"
     ]
    }
   ],
   "source": [
    "result = re.search(regex,text)\n",
    "result1 = re.search(regex,text, flags=re.IGNORECASE)\n",
    "result2 = re.search(regex,text, flags=re.IGNORECASE | re.MULTILINE)\n",
    "print(result)\n",
    "print(result1)\n",
    "print(result2)\n",
    "print(result.span())\n",
    "print(result1.span())\n",
    "print(result2.span())"
   ]
  },
  {
   "cell_type": "code",
   "execution_count": null,
   "metadata": {},
   "outputs": [],
   "source": [
    "text = \"\"\"\n",
    "My name is Tor and I live in Chicago.\n",
    "My dummy phone number is 224-323-1234\n",
    "and my zip code is 60060 \n",
    "My dummy email is: tor@gmail.com.\"\n",
    "\"\"\""
   ]
  },
  {
   "cell_type": "markdown",
   "metadata": {},
   "source": [
    "### re.split()"
   ]
  },
  {
   "cell_type": "code",
   "execution_count": 19,
   "metadata": {},
   "outputs": [
    {
     "name": "stdout",
     "output_type": "stream",
     "text": [
      "['\\nMy name is Tor and I live in Chicago.\\nMy dum', ' phone number is 224-323-1234\\nand ', ' zip code is 60060 \\nMy dum', ' email is: tor@gmail.com.\"\\n']\n"
     ]
    }
   ],
   "source": [
    "result = re.split(regex,text, flags=re.IGNORECASE)\n",
    "result1 = re.split(regex,text,1)\n",
    "result3 = re.split(regex,text,3)\n",
    "#print(result)\n",
    "#print(result1)\n",
    "print(result3)"
   ]
  },
  {
   "cell_type": "markdown",
   "metadata": {},
   "source": [
    "### re.match()"
   ]
  },
  {
   "cell_type": "code",
   "execution_count": 20,
   "metadata": {},
   "outputs": [
    {
     "name": "stdout",
     "output_type": "stream",
     "text": [
      "None\n",
      "None\n",
      "None\n"
     ]
    }
   ],
   "source": [
    "result = re.match(regex,text)\n",
    "result1 = re.match(regex,text, re.I)\n",
    "result2 = re.match(regex,text, flags= re.I | re.M)\n",
    "print(result)\n",
    "print(result1)\n",
    "print(result2)"
   ]
  },
  {
   "cell_type": "markdown",
   "metadata": {
    "azdata_cell_guid": "fde2f3ff-3d86-4ec0-b7d8-d1ad736a6ccd",
    "language": "python"
   },
   "source": [
    "### re.findall()"
   ]
  },
  {
   "cell_type": "code",
   "execution_count": 21,
   "metadata": {},
   "outputs": [
    {
     "name": "stdout",
     "output_type": "stream",
     "text": [
      "['my', 'my', 'my']\n",
      "['My', 'My', 'my', 'my', 'My', 'my']\n",
      "['My', 'My', 'my', 'my', 'My', 'my']\n"
     ]
    }
   ],
   "source": [
    "result = re.findall(regex,text)\n",
    "result1 = re.findall(regex,text, re.I)\n",
    "result2 = re.findall(regex,text, flags= re.I | re.M)\n",
    "print(result)\n",
    "print(result1)\n",
    "print(result2)"
   ]
  },
  {
   "cell_type": "code",
   "execution_count": 22,
   "metadata": {},
   "outputs": [
    {
     "data": {
      "text/plain": [
       "re.compile(r'\\d+[-]?\\W', re.UNICODE)"
      ]
     },
     "execution_count": 22,
     "metadata": {},
     "output_type": "execute_result"
    }
   ],
   "source": [
    "text = \"\"\"\n",
    "My name is Tor and I live in Chicago.\n",
    "My dummy phone number is 224-323-1234\n",
    "and my zip code is 60060 \n",
    "My dummy email is: tor@gmail.com.\"\n",
    "\"\"\"\n",
    "\n",
    "regex = r\"\\d+\"\n",
    "regex1 = r\"\\d+[-]?\"\n",
    "regex2 = r\"\\d+[-]?.*\"\n",
    "regex3 = r\"\\d+[-]?\\W\"\n",
    "\n",
    "re.compile(regex)\n",
    "re.compile(regex1)\n",
    "re.compile(regex2)\n",
    "re.compile(regex3)"
   ]
  },
  {
   "cell_type": "code",
   "execution_count": 23,
   "metadata": {},
   "outputs": [
    {
     "name": "stdout",
     "output_type": "stream",
     "text": [
      "['224', '323', '1234', '60060']\n",
      "['224-', '323-', '1234', '60060']\n",
      "['224-323-1234', '60060 ']\n",
      "['224-', '323-', '1234\\n', '60060 ']\n"
     ]
    }
   ],
   "source": [
    "result = re.findall(regex,text)\n",
    "result1 = re.findall(regex1,text)\n",
    "result2 = re.findall(regex2,text)\n",
    "result3 = re.findall(regex3,text)\n",
    "\n",
    "print(result)\n",
    "print(result1)\n",
    "print(result2)\n",
    "print(result3)"
   ]
  },
  {
   "cell_type": "code",
   "execution_count": 24,
   "metadata": {
    "azdata_cell_guid": "f61df962-c2fa-49da-aa77-e9e9cf189414",
    "language": "python"
   },
   "outputs": [
    {
     "name": "stdout",
     "output_type": "stream",
     "text": [
      "<re.Match object; span=(0, 32), match='Python is a programming language'>\n"
     ]
    }
   ],
   "source": [
    "import re\n",
    "\n",
    "text = \"Python is a programming language\"\n",
    "\n",
    "result = re.search(r'''\n",
    "    ^Python     # match \"Python\" at the start of the string\n",
    "    \\s          # match a whitespace character\n",
    "    is          # match \"is\"\n",
    "    .*          # match any characters\n",
    "''', text, re.VERBOSE)\n",
    "\n",
    "print(result)"
   ]
  },
  {
   "cell_type": "code",
   "execution_count": 25,
   "metadata": {},
   "outputs": [
    {
     "name": "stdout",
     "output_type": "stream",
     "text": [
      "<re.Match object; span=(0, 6), match='Python'>\n"
     ]
    }
   ],
   "source": [
    "import re\n",
    "\n",
    "text = \"Python is a programming language\"\n",
    "\n",
    "result = re.search(r\"(?i)python\", text)\n",
    "\n",
    "print(result)"
   ]
  }
 ],
 "metadata": {
  "kernelspec": {
   "display_name": "Python 3 (ipykernel)",
   "language": "python",
   "name": "python3"
  },
  "language_info": {
   "codemirror_mode": {
    "name": "ipython",
    "version": 3
   },
   "file_extension": ".py",
   "mimetype": "text/x-python",
   "name": "python",
   "nbconvert_exporter": "python",
   "pygments_lexer": "ipython3",
   "version": "3.10.6"
  }
 },
 "nbformat": 4,
 "nbformat_minor": 2
}
